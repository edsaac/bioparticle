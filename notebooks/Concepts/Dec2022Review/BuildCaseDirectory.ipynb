{
 "cells": [
  {
   "cell_type": "code",
   "execution_count": 1,
   "metadata": {},
   "outputs": [],
   "source": [
    "%reset -f\n",
    "\n",
    "## PFLOTRAN\n",
    "import jupypft.model as mo\n",
    "import jupypft.parameter as pm\n",
    "import jupypft.attachmentRateCFT as arCFT\n",
    "import jupypft.plotBTC as plotBTC"
   ]
  },
  {
   "cell_type": "code",
   "execution_count": 2,
   "metadata": {},
   "outputs": [],
   "source": [
    "import numpy as np\n",
    "import matplotlib.pyplot as plt\n",
    "import pathlib\n",
    "import streamlit as st\n",
    "from os import system\n",
    "\n",
    "def dx_to_str(Dx):\n",
    "    Dx_string = np.array_str(Dx, max_line_width=32, precision=4)\n",
    "    Dx_string = Dx_string.replace(\"[\",\"\").replace(\"]\",\"\").replace(\"\\n\",\"\\\\ \\n\")\n",
    "    return Dx_string\n",
    "\n",
    "def generateDX(setbackDistance):\n",
    "    rs = setbackDistance\n",
    "    templatefile = pathlib.Path(\"xline.tpl.geo\")\n",
    "    geofile = pathlib.Path(\"xline.geo\")\n",
    "    gmshfile = pathlib.Path(\"xline.msh\")\n",
    "\n",
    "    system(f\"cp {templatefile} {geofile}; sed -i 's/<setbackDistance>/{rs:.2f}/' {geofile}\")\n",
    "    system(f\"gmsh -1 {geofile} > /dev/null\")\n",
    "\n",
    "    nodes = []\n",
    "    inNodes = False\n",
    "    with open(gmshfile, 'rb') as f:\n",
    "        while True:\n",
    "            line = f.readline().decode(\"utf-8\")\n",
    "            if \"$Nodes\" in line: inNodes = True\n",
    "            if inNodes: nodes.append(line.strip().split(\" \"))\n",
    "            if \"$EndNodes\" in line: break\n",
    "    geofile.unlink()\n",
    "    gmshfile.unlink()\n",
    "\n",
    "    nodes.pop()\n",
    "    nodes.pop(0)\n",
    "    nodes.pop(0)\n",
    "\n",
    "    xcoords = [float(node[1]) for node in nodes]\n",
    "    xcoords.sort()\n",
    "    xcoords = np.array(xcoords)\n",
    "\n",
    "    Dx = np.diff(xcoords)    \n",
    "    return Dx\n",
    "\n",
    "def generateDY():\n",
    "\n",
    "    templatefile = pathlib.Path(\"yline.tpl.geo\")\n",
    "    geofile = pathlib.Path(\"yline.geo\")\n",
    "    gmshfile = pathlib.Path(\"yline.msh\")\n",
    "\n",
    "    system(f\"cp {templatefile} {geofile}\")\n",
    "    system(f\"gmsh -1 {geofile} > /dev/null\")\n",
    "\n",
    "    nodes = []\n",
    "    inNodes = False\n",
    "    with open(gmshfile, 'rb') as f:\n",
    "        while True:\n",
    "            line = f.readline().decode(\"utf-8\")\n",
    "            if \"$Nodes\" in line: inNodes = True\n",
    "            if inNodes: nodes.append(line.strip().split(\" \"))\n",
    "            if \"$EndNodes\" in line: break\n",
    "\n",
    "    geofile.unlink()\n",
    "    gmshfile.unlink()\n",
    "\n",
    "    nodes.pop()\n",
    "    nodes.pop(0)\n",
    "    nodes.pop(0)\n",
    "\n",
    "    xcoords = [float(node[1]) for node in nodes]\n",
    "    xcoords.sort()\n",
    "    xcoords = np.array(xcoords)\n",
    "\n",
    "    Dx = np.diff(xcoords)    \n",
    "    return Dx"
   ]
  },
  {
   "cell_type": "markdown",
   "metadata": {},
   "source": [
    "# Build the Case Directory"
   ]
  },
  {
   "cell_type": "code",
   "execution_count": 3,
   "metadata": {},
   "outputs": [],
   "source": [
    "## Temperatures\n",
    "Ref,Atm,Tin = pm.Real(tag=\"<initialTemp>\",value=10.,units=\"C\",mathRep=\"$$T_{0}$$\"),\\\n",
    "              pm.Real(tag=\"<atmosphereTemp>\",value=10,units=\"C\",mathRep=\"$$T_{atm}$$\"),\\\n",
    "              pm.Real(tag=\"<leakageTemp>\",value=10., units=\"m³/d\",mathRep=\"$$T_{in}$$\")"
   ]
  },
  {
   "cell_type": "code",
   "execution_count": 4,
   "metadata": {},
   "outputs": [],
   "source": [
    "LongDisp  = pm.Real(tag=\"<longDisp>\",value=0.0,units=\"m\",mathRep=\"$$\\\\alpha_L$$\")\n",
    "TransDisp = pm.Real(tag=\"<transDisp>\",value=0.0,units=\"m\",mathRep=\"$$\\\\alpha_T$$\")"
   ]
  },
  {
   "cell_type": "code",
   "execution_count": 5,
   "metadata": {},
   "outputs": [],
   "source": [
    "#Gradients\n",
    "GX,GY,GZ  = pm.Real(tag=\"<GradientX>\",value=0.,units=\"-\",mathRep=\"$$\\partial_x h$$\"),\\\n",
    "            pm.Real(tag=\"<GradientY>\",value=0.,units=\"-\",mathRep=\"$$\\partial_y h$$\"),\\\n",
    "            pm.Real(tag=\"<Gradient>>\",value=0.,units=\"-\",mathRep=\"$$\\partial_z h$$\")"
   ]
  },
  {
   "cell_type": "code",
   "execution_count": 6,
   "metadata": {},
   "outputs": [],
   "source": [
    "## Dimensions\n",
    "LX,LY,LZ = pm.Real(\"<LenX>\",value=200,units=\"m\",mathRep=\"$$LX$$\"),\\\n",
    "           pm.Real(\"<LenY>\",value=10,units=\"m\",mathRep=\"$$LY$$\"),\\\n",
    "           pm.Real(\"<LenZ>\",value=20,units=\"m\",mathRep=\"$$LZ$$\")"
   ]
  },
  {
   "cell_type": "code",
   "execution_count": 7,
   "metadata": {},
   "outputs": [],
   "source": [
    "## Permeability\n",
    "kX,kY,kZ = pm.Real(tag=\"<PermX>\",value=1.0E-8,units=\"m²\",mathRep=\"$$k_{xx}$$\"),\\\n",
    "           pm.Real(tag=\"<PermY>\",value=1.0E-8,units=\"m²\",mathRep=\"$$k_{yy}$$\"),\\\n",
    "           pm.Real(tag=\"<PermZ>\",value=1.0E-8,units=\"m²\",mathRep=\"$$k_{zz}$$\")\n",
    "\n",
    "theta = pm.Real(tag=\"<porosity>\",value=0.35,units=\"adim\",mathRep=\"$$\\\\theta$$\")"
   ]
  },
  {
   "cell_type": "code",
   "execution_count": 8,
   "metadata": {},
   "outputs": [],
   "source": [
    "## Extraction well\n",
    "outX1,outX2 = pm.Real(tag=\"<outX1>\",value=LX.value/2.,units=\"m\",mathRep=\"$$x_{1,Q_{out}}$$\"),\\\n",
    "              pm.Real(tag=\"<outX2>\",value=LX.value/2.,units=\"m\",mathRep=\"$$x_{2,Q_{out}}$$\")\n",
    "\n",
    "outY1,outY2 = pm.Real(tag=\"<outY1>\",value=LY.value/2.,units=\"m\",mathRep=\"$$y_{1,Q_{out}}$$\"),\\\n",
    "              pm.Real(tag=\"<outY2>\",value=LY.value/2.,units=\"m\",mathRep=\"$$y_{2,Q_{out}}$$\")\n",
    "\n",
    "outZ1,outZ2 = pm.Real(tag=\"<outZ1>\",value=LZ.value/2.   ,units=\"m\",mathRep=\"$$z_{1,Q_{out}}$$\"),\\\n",
    "              pm.Real(tag=\"<outZ2>\",value=LZ.value - 1.0,units=\"m\",mathRep=\"$$z_{2,Q_{out}}$$\")\n",
    "\n",
    "## Extraction rate\n",
    "Qout = pm.Real(tag=\"<outRate>\",value=-21.0,units=\"m³/d\",mathRep=\"$$Q_{out}$$\")"
   ]
  },
  {
   "cell_type": "code",
   "execution_count": 9,
   "metadata": {},
   "outputs": [],
   "source": [
    "setbackDist = 40.\n",
    "\n",
    "## Injection point\n",
    "inX1,inX2 = pm.Real(tag=\"<inX1>\",value=outX1.value + setbackDist,units=\"m\",mathRep=\"$$x_{1,Q_{in}}$$\"),\\\n",
    "            pm.Real(tag=\"<inX2>\",value=outX2.value + setbackDist,units=\"m\",mathRep=\"$$x_{2,Q_{in}}$$\")\n",
    "\n",
    "inY1,inY2 = pm.Real(tag=\"<inY1>\",value=outY1.value + 0.0,units=\"m\",mathRep=\"$$y_{1,Q_{in}}$$\"),\\\n",
    "            pm.Real(tag=\"<inY2>\",value=outY2.value + 0.0,units=\"m\",mathRep=\"$$y_{2,Q_{in}}$$\")\n",
    "\n",
    "inZ1,inZ2 = pm.Real(tag=\"<inZ1>\",value=LZ.value - 5.0,units=\"m\",mathRep=\"$$z_{1,Q_{in}}$$\"),\\\n",
    "            pm.Real(tag=\"<inZ2>\",value=LZ.value - 1.0,units=\"m\",mathRep=\"$$z_{2,Q_{in}}$$\")"
   ]
  },
  {
   "cell_type": "code",
   "execution_count": 10,
   "metadata": {},
   "outputs": [],
   "source": [
    "## Concentration\n",
    "C0 = pm.Real(\"<initialConcentration>\", value=1.0, units=\"mol/L\")\n",
    "\n",
    "## Injection rate\n",
    "Qin = pm.Real(tag=\"<inRate>\",value=0.24, units=\"m³/d\",mathRep=\"$$Q_{in}$$\")"
   ]
  },
  {
   "cell_type": "code",
   "execution_count": 11,
   "metadata": {},
   "outputs": [],
   "source": [
    "## Grid\n",
    "# nX,nY,nZ = pm.Integer(\"<nX>\",value=41,units=\"-\",mathRep=\"$$nX$$\"),\\\n",
    "#            pm.Integer(\"<nY>\",value=41 ,units=\"-\",mathRep=\"$$nY$$\"),\\\n",
    "#            pm.Integer(\"<nZ>\",value=1,units=\"-\",mathRep=\"$$nZ$$\")\n",
    "\n",
    "Dxx, Dyy, Dzz = generateDX(setbackDistance=setbackDist), generateDY(), [1]\n",
    "\n",
    "nX,nY,nZ = pm.Integer(\"<nX>\",value=len(Dxx),units=\"-\",mathRep=\"$$nX$$\"),\\\n",
    "            pm.Integer(\"<nY>\",value=len(Dyy) ,units=\"-\",mathRep=\"$$nY$$\"),\\\n",
    "            pm.Integer(\"<nZ>\",value=len(Dzz),units=\"-\",mathRep=\"$$nZ$$\")\n",
    "\n",
    "dX,dY,dZ = pm.JustText(\"<dX>\"),\\\n",
    "           pm.JustText(\"<dY>\"),\\\n",
    "           pm.JustText(\"<dZ>\")\n",
    "\n",
    "CellRatio = { 'X' : 2.0, 'Y' : 3.0, 'Z' : 0.75 }\n",
    "#CellRatio = { 'X' : 1.00, 'Y' : 0.50, 'Z' : 0.75 }"
   ]
  },
  {
   "cell_type": "code",
   "execution_count": 12,
   "metadata": {},
   "outputs": [
    {
     "data": {
      "text/plain": [
       "'1.3653 1.2037 1.0613 0.9357\\\\ \\n 0.825  0.7274 0.6413 0.5654\\\\ \\n 0.4985 0.4395 0.3875 0.3417\\\\ \\n 0.3013 0.2656 0.2342 0.2065\\\\ \\n 0.2066 0.2205 0.2353 0.2511\\\\ \\n 0.268  0.286  0.3052 0.3257\\\\ \\n 0.3476 0.3709 0.3958 0.4224\\\\ \\n 0.4507 0.481  0.5133 0.5478\\\\ \\n 0.5846 0.6238 0.6657 0.7104\\\\ \\n 0.7581 0.8091 0.8634 0.9214\\\\ \\n 0.9833 1.0493 1.1198 1.1949\\\\ \\n 1.2752 1.3608 1.4522 1.4522\\\\ \\n 1.3608 1.2752 1.1949 1.1198\\\\ \\n 1.0493 0.9833 0.9214 0.8634\\\\ \\n 0.8091 0.7581 0.7104 0.6657\\\\ \\n 0.6238 0.5846 0.5478 0.5133\\\\ \\n 0.481  0.4507 0.4224 0.3958\\\\ \\n 0.3709 0.3476 0.3257 0.3052\\\\ \\n 0.286  0.268  0.2511 0.2353\\\\ \\n 0.2205 0.2066 0.2203 0.2834\\\\ \\n 0.3646 0.469  0.6034 0.7762\\\\ \\n 0.9985 1.2845'"
      ]
     },
     "execution_count": 12,
     "metadata": {},
     "output_type": "execute_result"
    }
   ],
   "source": [
    "dx_to_str(Dxx)"
   ]
  },
  {
   "cell_type": "code",
   "execution_count": 13,
   "metadata": {},
   "outputs": [],
   "source": [
    "dX.value = dx_to_str(Dxx)\n",
    "dY.value = dx_to_str(Dyy)\n",
    "\n",
    "if nZ.value == 1:\n",
    "    dZ.value = LZ.strValue\n",
    "else:\n",
    "    dZ.value = mo.buildDXYZ(LZ.value,CellRatio['Z'],nZ.value,hasBump=False)"
   ]
  },
  {
   "cell_type": "code",
   "execution_count": 14,
   "metadata": {},
   "outputs": [],
   "source": [
    "# Time config\n",
    "endTime = pm.Real(\"<endTime>\",value=20.,units=\"d\")"
   ]
  },
  {
   "cell_type": "code",
   "execution_count": 15,
   "metadata": {},
   "outputs": [],
   "source": [
    "## Bioparticle\n",
    "dc = pm.Real(tag=\"<diamCollector>\",value=0.0, units=\"m\",mathRep=\"$$d_{c}$$\")\n",
    "dp = pm.Real(tag=\"<diamParticle>\",value=0.0, units=\"m\",mathRep=\"$$d_{c}$$\")\n",
    "Hamaker = pm.Real(tag=\"<hamakerConstant>\",value=0.0, units=\"m\",mathRep=\"$$d_{c}$$\")\n",
    "rhop = pm.Real(tag=\"<rhoParticle>\",value=0.0, units=\"m\",mathRep=\"$$d_{c}$$\")\n",
    "alpha = pm.Real(tag=\"<stickingEfficiency>\",value=0.0, units=\"m\",mathRep=\"$$d_{c}$$\")\n",
    "\n",
    "kDet = pm.Real(tag=\"<kdet>\",value=1.0E-30,units=\"1/s\",mathRep=\"$$k_{det}$$\")\n",
    "\n",
    "decayAq,decayIm = pm.Real(tag=\"<decayAq>\",value=1.0E-30,units=\"1/s\",mathRep=\"$$\\lambda_{aq}$$\"),\\\n",
    "                  pm.Real(tag=\"<decayIm>\",value=1.0E-30,units=\"1/s\",mathRep=\"$$\\lambda_{im}$$\")"
   ]
  },
  {
   "cell_type": "code",
   "execution_count": 16,
   "metadata": {},
   "outputs": [],
   "source": [
    "caseDict = {\n",
    "    \"Temp\":{\n",
    "        \"Reference\" : Ref,\n",
    "        \"Atmosphere\": Atm,\n",
    "        \"Injection\" : Tin },\n",
    "   \"longDisp\":LongDisp,\n",
    "   \"transDisp\":TransDisp,\n",
    "   \"Gradient\":{\n",
    "       \"X\" :GX,\n",
    "       \"Y\" :GY,\n",
    "       \"Z\" :GZ },\n",
    "   \"L\":{\n",
    "       \"X\" :LX,\n",
    "       \"Y\" :LY,\n",
    "       \"Z\" :LZ },\n",
    "   \"k\":{\n",
    "       \"X\" :kX,\n",
    "       \"Y\" :kY,\n",
    "       \"Z\" :kZ },\n",
    "   \"theta\":theta,\n",
    "   \"outCoord\":{\n",
    "       \"X\" : { 1 : outX1,\n",
    "               2 : outX2},\n",
    "       \"Y\" : { 1 : outY1,\n",
    "               2 : outY2},\n",
    "       \"Z\" : { 1 : outZ1,\n",
    "               2 : outZ2}},\n",
    "   \"inCoord\":{\n",
    "       \"X\" : { 1 : inX1,\n",
    "               2 : inX2},\n",
    "       \"Y\" : { 1 : inY1,\n",
    "               2 : inY2},\n",
    "       \"Z\" : { 1 : inZ1,\n",
    "               2 : inZ2}},\n",
    "    \"C0\":C0,\n",
    "    \"Q\":{\"In\":Qin,\n",
    "         \"Out\":Qout},\n",
    "    \"nGrid\":{\"X\":nX,\n",
    "             \"Y\":nY,\n",
    "             \"Z\":nZ},\n",
    "    \"dGrid\":{\"X\":dX,\n",
    "             \"Y\":dY,\n",
    "             \"Z\":dZ},\n",
    "    \"endTime\":endTime,\n",
    "    \"BIOPARTICLE\":{\n",
    "        \"katt\" : {\n",
    "            \"dc\":dc,\n",
    "            \"dp\":dp,\n",
    "            \"Hamaker\":Hamaker,\n",
    "            \"rhop\":rhop,\n",
    "            \"alpha\":alpha\n",
    "            },\n",
    "        \"kdet\" : kDet,\n",
    "        \"decayAq\" : decayAq,\n",
    "        \"decayIm\" : decayIm}\n",
    "           }"
   ]
  },
  {
   "cell_type": "code",
   "execution_count": 17,
   "metadata": {},
   "outputs": [],
   "source": [
    "import pickle\n",
    "\n",
    "with open('caseDict.pkl', 'wb') as f:\n",
    "    pickle.dump(caseDict,f)"
   ]
  },
  {
   "cell_type": "code",
   "execution_count": null,
   "metadata": {},
   "outputs": [],
   "source": []
  }
 ],
 "metadata": {
  "kernelspec": {
   "display_name": "venv",
   "language": "python",
   "name": "python3"
  },
  "language_info": {
   "codemirror_mode": {
    "name": "ipython",
    "version": 3
   },
   "file_extension": ".py",
   "mimetype": "text/x-python",
   "name": "python",
   "nbconvert_exporter": "python",
   "pygments_lexer": "ipython3",
   "version": "3.9.5"
  },
  "vscode": {
   "interpreter": {
    "hash": "8f62a988d0078ce54b44b9110a71f93c38ba1feabf8ee2b2fa419091e683527d"
   }
  }
 },
 "nbformat": 4,
 "nbformat_minor": 4
}

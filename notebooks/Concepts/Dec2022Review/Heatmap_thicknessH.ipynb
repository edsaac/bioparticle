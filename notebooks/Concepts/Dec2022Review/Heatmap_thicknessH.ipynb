{
 "cells": [
  {
   "cell_type": "code",
   "execution_count": 1,
   "metadata": {},
   "outputs": [],
   "source": [
    "import numpy as np\n",
    "import matplotlib.pyplot as plt\n",
    "\n",
    "from math import floor, log10\n",
    "from os import system\n",
    "\n",
    "''' GLOBAL CONSTANTS '''\n",
    "PI = 3.141592\n",
    "BOLTZMANN = 1.380649E-23 #N·m/K\n",
    "TEMP = 10 + 273.15 #K\n",
    "g = 9.81 #m/s²\n",
    "\n",
    "\n",
    "def sci_notation(num, decimal_digits=1, precision=None, exponent=None):\n",
    "    \"\"\"\n",
    "    Returns a string representation of the scientific\n",
    "    notation of the given number formatted for use with\n",
    "    LaTeX or Mathtext, with specified number of significant\n",
    "    decimal digits and precision (number of decimal digits\n",
    "    to show). The exponent to be used can also be specified\n",
    "    explicitly.\n",
    "    \"\"\"\n",
    "    if exponent is None:\n",
    "        exponent = int(floor(log10(abs(num))))\n",
    "    coeff = round(num / float(10**exponent), decimal_digits)\n",
    "    if precision is None:\n",
    "        precision = decimal_digits\n",
    "\n",
    "    return r\"${0:.{2}f}\\times10^{{{1:d}}}$\".format(coeff, exponent, precision)\n",
    "\n",
    "def p_notation(num) -> str:\n",
    "    exponent = np.log10(num)\n",
    "    return rf\"$10^{{{exponent:.0f}}}$\""
   ]
  },
  {
   "cell_type": "code",
   "execution_count": 2,
   "metadata": {},
   "outputs": [],
   "source": [
    "def dispCoef(D_m,alpha_L,U,n=1.0):\n",
    "    return D_m + alpha_L*(U**n)\n",
    "\n",
    "def poreVel(q, theta):\n",
    "    return q/theta\n",
    "\n",
    "def molecularDiff(visco,dp): \n",
    "    return (BOLTZMANN*TEMP)/(3*PI*visco*dp)\n",
    "\n",
    "def attachmentRate(dc,theta,alpha,U,eta0): \n",
    "    return (3*(1-theta)*alpha*U*eta0)/(2*dc)\n",
    "\n",
    "def collectorEff(etaD,etaI,etaG):\n",
    "    return etaD + etaI + etaG\n",
    "\n",
    "def collectorEfficiency_Diffusion(A_s,N_R,N_Pe,N_vdW):\n",
    "    return 2.40 * (A_s**(1./3.)) * (N_R**-0.081) * (N_Pe**-0.715) * (N_vdW**0.052)\n",
    "\n",
    "def collectorEfficiency_Interception(A_s,N_R,N_Pe,N_vdW):\n",
    "    return 0.55 * A_s * (N_R**1.55) * (N_Pe**-0.125) * (N_vdW**0.125)\n",
    "\n",
    "def collectorEfficiency_GDeposition(N_gr,N_R,N_Pe,N_vdW):\n",
    "    return 0.475 * (N_gr**1.11)   * (N_R**-1.35)  * (N_Pe**-1.11)  * (N_vdW**0.053)\n",
    "\n",
    "def happelParameter(theta):\n",
    "    s = 1-theta\n",
    "    s53 = s**(5./3.)\n",
    "    s13 = s**(1./3.)\n",
    "    s21 = s**2\n",
    "    return (2*(1-s53))/(2 - (3*s13) + (3*s53) - (2*s21))\n",
    "\n",
    "def noDim_SizeRatio(dp,dc):\n",
    "    return dp/dc\n",
    "\n",
    "def noDim_Péclet(q,dc,Dm):\n",
    "     return q*dc/Dm\n",
    "\n",
    "def noDim_vanderWaals(A):\n",
    "    return A/(BOLTZMANN*TEMP)\n",
    "\n",
    "def noDim_Gravitational(dp,rhof,rhop):\n",
    "    return (PI*(dp**4)*(rhop-rhof)*g)/(12.*BOLTZMANN*TEMP)"
   ]
  },
  {
   "cell_type": "code",
   "execution_count": 3,
   "metadata": {},
   "outputs": [],
   "source": [
    "'''CASE CONSTANTS'''\n",
    "#Porosity\n",
    "theta = 0.35 # adim\n",
    "dp = 1.0E-7\n",
    "dc = 2.0E-3\n",
    "r = 40\n",
    "A = 5.0E-21 # J = N·m\n",
    "viscosity = 0.0008891 # N·s/m²\n",
    "water_density = 999.79 # kg/m³\n",
    "particle_density = 1050.0 # kg/m³ \n",
    "alpha = 0.01 # adim << favorable conditions\n",
    "\n",
    "#Darcy flow velocity\n",
    "I = np.power(10.0, np.arange(-4.7,0,0.05))\n",
    "H = np.linspace(0.5,30,80)\n",
    "#qin = np.geomspace(0.01,10.0,50)/86400\n",
    "Ixx, Hyy = np.meshgrid(I,H)\n",
    "\n",
    "# H = 10.\n",
    "f = 10.\n",
    "Qin = 0.24/86400.\n",
    "decayRate = 3.5353E-06"
   ]
  },
  {
   "cell_type": "code",
   "execution_count": 4,
   "metadata": {},
   "outputs": [],
   "source": [
    "def hydraulicCond_kozenycarman(dc:np.array) -> np.array:\n",
    "    kappa = dc**2 * np.power(theta,3)/ (180 * np.power(1-theta, 2))\n",
    "    return kappa * water_density * g / viscosity\n",
    "\n",
    "def dc_kozenycarman(K:np.array) -> np.array:\n",
    "    kappa = K * viscosity / (water_density * g)\n",
    "    return np.sqrt(kappa/(np.power(theta,3)/ (180 * np.power(1-theta, 2))))\n",
    "\n",
    "K = hydraulicCond_kozenycarman(dc)"
   ]
  },
  {
   "cell_type": "code",
   "execution_count": 5,
   "metadata": {},
   "outputs": [],
   "source": [
    "def characteristic_q(I:np.array, r:np.array, H:np.array) -> np.array:\n",
    "    return K*I + Qin*(1+f)/(4*r*H)\n",
    "\n",
    "q = characteristic_q(Ixx, r, Hyy)"
   ]
  },
  {
   "cell_type": "code",
   "execution_count": 6,
   "metadata": {},
   "outputs": [],
   "source": [
    "def katt_dp_dc(dp:np.array, dc:np.array, q:np.array):\n",
    "\n",
    "    #Molecular diffusion\n",
    "    Dm  = molecularDiff(viscosity,dp)\n",
    "    \n",
    "    #Pore water velocity\n",
    "    U   = poreVel(q,theta)\n",
    "    \n",
    "    #Non-dimensional numbers\n",
    "    As  = happelParameter(theta)\n",
    "    NR  = noDim_SizeRatio(dp,dc)\n",
    "    NPe = noDim_Péclet(q,dc,Dm)\n",
    "    NvW = noDim_vanderWaals(A)\n",
    "    NGr = noDim_Gravitational(dp,water_density,particle_density)\n",
    "    \n",
    "    #Collector efficiency\n",
    "    etaD = collectorEfficiency_Diffusion(As,NR,NPe,NvW)\n",
    "    etaI = collectorEfficiency_Interception(As,NR,NPe,NvW)\n",
    "    etaG = collectorEfficiency_GDeposition(NGr,NR,NPe,NvW)\n",
    "    eta0 = collectorEff(etaD,etaI,etaG)\n",
    "    \n",
    "    #Attachment rate\n",
    "    kAtt = attachmentRate(dc,theta,alpha,U,eta0)\n",
    "\n",
    "    return kAtt\n",
    "\n",
    "katt = katt_dp_dc(dp,dc,q)"
   ]
  },
  {
   "cell_type": "code",
   "execution_count": 7,
   "metadata": {},
   "outputs": [],
   "source": [
    "tau = (r*theta)/q\n",
    "deltay = 1.35\n",
    "Ce = Qin/(q*deltay*Hyy) * np.exp(-(decayRate + katt)*tau)"
   ]
  },
  {
   "cell_type": "code",
   "execution_count": 8,
   "metadata": {},
   "outputs": [],
   "source": [
    "import matplotlib.colors as colors\n",
    "import matplotlib.ticker as ticker\n",
    "plt.style.use(f'/home/edsaa/Repositories/ReactiveBiomass/misc/edwin.mplstyle')"
   ]
  },
  {
   "cell_type": "code",
   "execution_count": 9,
   "metadata": {},
   "outputs": [
    {
     "data": {
      "image/png": "[encoded data removed]",
      "text/plain": [
       "<Figure size 432x432 with 2 Axes>"
      ]
     },
     "metadata": {
      "needs_background": "light"
     },
     "output_type": "display_data"
    }
   ],
   "source": [
    "fig, ax = plt.subplots(figsize=(6,6))\n",
    "img = ax.pcolormesh(\n",
    "    Ixx, Hyy,\n",
    "    -np.log10(Ce), \n",
    "    vmin=0, vmax=10,\n",
    "    cmap='bone', edgecolors='face')\n",
    "\n",
    "plt.colorbar(img,ax=ax,\n",
    "    orientation='horizontal',\n",
    "    location='top',\n",
    "    label=\"log-reductions\\n\" + r\"$-\\log(C_e/C_0)$\",\n",
    "    shrink=0.3)\n",
    "\n",
    "cs = ax.contour(Ixx,Hyy,\n",
    "    -np.log10(Ce),\n",
    "    np.arange(0,4,1),\n",
    "    colors=[\"w\"],\n",
    "    alpha=0.8,\n",
    "    linewidths=1.5)\n",
    "\n",
    "ax.clabel(cs, cs.levels, inline=True, fmt=\"%.0f\", \n",
    "    fontsize=12,\n",
    "    colors=[\"w\"],\n",
    "    manual=[(5e-2, 1)])\n",
    "\n",
    "cs = ax.contour(Ixx,Hyy,\n",
    "    -np.log10(Ce),\n",
    "    [4],\n",
    "    colors=[\"springgreen\"],\n",
    "    alpha=0.8,\n",
    "    linewidths=4.5)\n",
    "\n",
    "ax.clabel(cs, cs.levels, inline=True, fmt=\"%.0f\", \n",
    "    fontsize=12,\n",
    "    colors=[\"springgreen\"],\n",
    "    manual=False)\n",
    "\n",
    "cs = ax.contour(Ixx,Hyy,\n",
    "    -np.log10(Ce),\n",
    "    np.arange(5,11,1),\n",
    "    colors=[\"k\"],\n",
    "    alpha=0.8,\n",
    "    linewidths=1.5)\n",
    "\n",
    "ax.clabel(cs, [5,7,9], inline=True, fmt=\"%.0f\", \n",
    "    fontsize=12,\n",
    "    colors=[\"k\"],\n",
    "    manual=False)\n",
    "\n",
    "ax.set_xscale('log')\n",
    "#ax.set_yscale('log')\n",
    "\n",
    "plt.tight_layout()\n",
    "ax.spines.top.set_visible(True)\n",
    "\n",
    "ax.set_xlabel(r\"Water table gradient   $I$ [m/m]\")\n",
    "ax.set_ylabel(r\"Aquifer thickness   $H$ [m]\")\n",
    "\n",
    "#ax.grid(True, which='both')\n",
    "plt.show()"
   ]
  },
  {
   "cell_type": "code",
   "execution_count": null,
   "metadata": {},
   "outputs": [],
   "source": []
  }
 ],
 "metadata": {
  "kernelspec": {
   "display_name": "venv",
   "language": "python",
   "name": "python3"
  },
  "language_info": {
   "codemirror_mode": {
    "name": "ipython",
    "version": 3
   },
   "file_extension": ".py",
   "mimetype": "text/x-python",
   "name": "python",
   "nbconvert_exporter": "python",
   "pygments_lexer": "ipython3",
   "version": "3.9.5"
  },
  "orig_nbformat": 4,
  "vscode": {
   "interpreter": {
    "hash": "8f62a988d0078ce54b44b9110a71f93c38ba1feabf8ee2b2fa419091e683527d"
   }
  }
 },
 "nbformat": 4,
 "nbformat_minor": 2
}

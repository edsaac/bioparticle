{
 "cells": [
  {
   "cell_type": "code",
   "execution_count": 1,
   "metadata": {},
   "outputs": [
    {
     "data": {
      "text/plain": [
       "0"
      ]
     },
     "execution_count": 1,
     "metadata": {},
     "output_type": "execute_result"
    }
   ],
   "source": [
    "from os import system\n",
    "import os\n",
    "import pickle\n",
    "import numpy as np\n",
    "\n",
    "## PFLOTRAN\n",
    "import jupypft.model as mo\n",
    "import jupypft.parameter as pm\n",
    "import jupypft.plotBTC as plotBTC\n",
    "\n",
    "system(\"python buildCaseTemplate.py\")"
   ]
  },
  {
   "attachments": {},
   "cell_type": "markdown",
   "metadata": {},
   "source": [
    "# Test\n",
    "\n",
    "Run with a variable head gradient to find the one that gives the minimum log-reductions\n",
    "\n",
    "Results from this are stored in `Dec-21-2022-Review.tar.gz` and are summarized in `results.pkl`"
   ]
  },
  {
   "cell_type": "code",
   "execution_count": 2,
   "metadata": {},
   "outputs": [],
   "source": [
    "def resetPickle():\n",
    "    mo.Model.resetListOfModels()\n",
    "    global caseDict\n",
    "    with open('caseDict.pkl', 'rb') as f:\n",
    "        caseDict = pickle.load(f)\n",
    "    \n",
    "    pm.Parameter.rebuildListOfObjects(caseDict)\n",
    "    \n",
    "    global listOfAllParameters\n",
    "    listOfAllParameters = pm.Parameter.list_of_vars()\n",
    "    \n",
    "def buildSim(caseName):\n",
    "    ## Create a folder for the case\n",
    "    currentFolder = \"./CASE_{0}\".format(caseName)\n",
    "    currentFile = currentFolder + \"/\" + caseName +\".in\"\n",
    "    system(\"mkdir \" + currentFolder)\n",
    "    \n",
    "    ## Initialize PFLOTRAN model\n",
    "    BoxModel = mo.Model(\n",
    "        templateFile = templateFile,\n",
    "        runFile = currentFile,\n",
    "        execPath = execPath,\n",
    "        verbose=True\n",
    "        )\n",
    "       \n",
    "    ## Copy template input file to folder\n",
    "    BoxModel.cloneTemplate()\n",
    "    \n",
    "    ## Replace tags for values in case\n",
    "    for parameter in listOfAllParameters:\n",
    "        BoxModel.replaceTagInFile(parameter)\n",
    "\n",
    "    return BoxModel\n",
    "\n",
    "## Dummy for caseDict\n",
    "caseDict = {}\n",
    "\n",
    "def getTemplate(key):\n",
    "    templateFiles = {\"TH_RSandbox_CFT\":\"tpl_TH_3Dbox_bioparticleCFT_NoH5.in\"}\n",
    "\n",
    "    templateFolder = \".\"\n",
    "    return os.path.join(templateFolder, templateFiles[key])\n",
    "\n",
    "templateFile = getTemplate('TH_RSandbox_CFT')\n",
    "execPath = \"pflotran\""
   ]
  },
  {
   "cell_type": "code",
   "execution_count": 3,
   "metadata": {},
   "outputs": [],
   "source": [
    "K = 2.488E-02 #10.**-2.\n",
    "Qin = 0.24 #m/d\n",
    "f = 10.\n",
    "H = 10.\n",
    "r = 40.\n",
    "C0 = 1.0\n",
    "decayRate = 3.5353E-06\n",
    "\n",
    "nu = 0.0000013081 #m²/s\n",
    "g = 9.81 #m/s²\n",
    "THETA = 0.35"
   ]
  },
  {
   "cell_type": "code",
   "execution_count": 4,
   "metadata": {},
   "outputs": [],
   "source": [
    "resetPickle()"
   ]
  },
  {
   "cell_type": "code",
   "execution_count": 5,
   "metadata": {},
   "outputs": [],
   "source": [
    "caseDict['endTime'].value = 12.\n",
    "\n",
    "caseDict['BIOPARTICLE']['decayAq'].value = decayRate\n",
    "caseDict['BIOPARTICLE']['decayIm'].value = decayRate\n",
    "\n",
    "caseDict['BIOPARTICLE']['katt']['dc'].value = 2.0E-3\n",
    "caseDict['BIOPARTICLE']['katt']['dp'].value = 1.0E-7\n",
    "caseDict['BIOPARTICLE']['katt']['Hamaker'].value = 5.0E-21 # J = N·m\n",
    "caseDict['BIOPARTICLE']['katt']['rhop'].value = 1050.0 # kg/m³ \n",
    "caseDict['BIOPARTICLE']['katt']['alpha'].value = 0.01\n",
    "\n",
    "caseDict['Q']['In'].value  = Qin\n",
    "caseDict['Q']['Out'].value = -Qin*f\n",
    "caseDict['k']['X'].value = K*nu/g\n",
    "caseDict['k']['Y'].value = K*nu/g\n",
    "caseDict['k']['Z'].value = K*nu/g\n",
    "caseDict['theta'].value = THETA\n",
    "caseDict['L']['Z'].value = H\n",
    "caseDict['inCoord']['X'][1].value = caseDict['outCoord']['X'][1].value + r\n",
    "caseDict['inCoord']['X'][2].value = caseDict['outCoord']['X'][2].value + r\n",
    "\n",
    "caseDict['inCoord']['Z'][1].value = 0.0\n",
    "caseDict['inCoord']['Z'][2].value = H\n",
    "\n",
    "caseDict['outCoord']['Z'][1].value = 0.0\n",
    "caseDict['outCoord']['Z'][2].value = H"
   ]
  },
  {
   "cell_type": "code",
   "execution_count": 6,
   "metadata": {},
   "outputs": [
    {
     "data": {
      "image/png": "[encoded data removed]",
      "text/plain": [
       "<Figure size 432x288 with 1 Axes>"
      ]
     },
     "metadata": {
      "needs_background": "light"
     },
     "output_type": "display_data"
    }
   ],
   "source": [
    "# I_array = np.concatenate([\n",
    "#     [-3.8, -3.4],\n",
    "#     np.linspace(-3.0, -1.2, 12),\n",
    "#     [-1.0, -0.8]\n",
    "#     ])\n",
    "\n",
    "I_array = np.linspace(-3.4, -0.8, 14)\n",
    "I_array = np.power(10.0, I_array)\n",
    "\n",
    "import matplotlib.pyplot as plt\n",
    "fig,ax = plt.subplots()\n",
    "ax.plot(I_array, np.zeros_like(I_array), marker=\"o\")\n",
    "ax.set(xscale='log', xlim=(1e-4,1e-0))\n",
    "plt.show()"
   ]
  },
  {
   "cell_type": "code",
   "execution_count": 7,
   "metadata": {},
   "outputs": [
    {
     "name": "stdout",
     "output_type": "stream",
     "text": [
      "-3.40E+00 ==> 50.00 day\n",
      "-3.20E+00 ==> 50.00 day\n",
      "-3.00E+00 ==> 50.00 day\n",
      "-2.80E+00 ==> 36.90 day\n",
      "-2.60E+00 ==> 23.28 day\n",
      "-2.40E+00 ==> 14.69 day\n",
      "-2.20E+00 ==> 9.27 day\n",
      "-2.00E+00 ==> 5.85 day\n",
      "-1.80E+00 ==> 3.69 day\n",
      "-1.60E+00 ==> 2.50 day\n",
      "-1.40E+00 ==> 2.50 day\n",
      "-1.20E+00 ==> 2.50 day\n",
      "-1.00E+00 ==> 2.50 day\n",
      "-8.00E-01 ==> 2.50 day\n"
     ]
    }
   ],
   "source": [
    "for headGradient in I_array:\n",
    "    caseDict['Gradient']['X'].value  = headGradient\n",
    "    caseDict['endTime'].value = min(max(1.1*(r/(headGradient*K*0.35))/86400, 2.5), 50)\n",
    "    print(f\"{np.log10(headGradient):.2E} ==> {caseDict['endTime'].value:.2f} day\")\n",
    "    buildSim(\"I_1E{:.1f}\".format(np.log10(headGradient)))"
   ]
  },
  {
   "cell_type": "code",
   "execution_count": 8,
   "metadata": {},
   "outputs": [],
   "source": [
    "def runPflotran(pflotranin:str):\n",
    "    os.system(f\"pflotran -pflotranin {pflotranin} > /dev/null\")"
   ]
  },
  {
   "cell_type": "code",
   "execution_count": 9,
   "metadata": {},
   "outputs": [
    {
     "name": "stdout",
     "output_type": "stream",
     "text": [
      "./CASE_I_1E-3.4/I_1E-3.4.in\n",
      "./CASE_I_1E-3.2/I_1E-3.2.in\n",
      "./CASE_I_1E-3.0/I_1E-3.0.in\n",
      "./CASE_I_1E-2.8/I_1E-2.8.in\n",
      "./CASE_I_1E-2.6/I_1E-2.6.in\n",
      "./CASE_I_1E-2.4/I_1E-2.4.in\n",
      "./CASE_I_1E-2.2/I_1E-2.2.in\n",
      "./CASE_I_1E-2.0/I_1E-2.0.in\n",
      "./CASE_I_1E-1.8/I_1E-1.8.in\n",
      "./CASE_I_1E-1.6/I_1E-1.6.in\n",
      "./CASE_I_1E-1.4/I_1E-1.4.in\n",
      "./CASE_I_1E-1.2/I_1E-1.2.in\n",
      "./CASE_I_1E-1.0/I_1E-1.0.in\n",
      "./CASE_I_1E-0.8/I_1E-0.8.in\n"
     ]
    }
   ],
   "source": [
    "for m in mo.Model._Model__listObjs:\n",
    "    print(m.runFile)"
   ]
  },
  {
   "cell_type": "code",
   "execution_count": 10,
   "metadata": {},
   "outputs": [],
   "source": [
    "from multiprocessing import Pool\n",
    "with Pool() as pool:\n",
    "    processedBlob = pool.map(\n",
    "        runPflotran,\n",
    "        [m.runFile for m in mo.Model._Model__listObjs])"
   ]
  },
  {
   "cell_type": "code",
   "execution_count": 11,
   "metadata": {},
   "outputs": [
    {
     "name": "stdout",
     "output_type": "stream",
     "text": [
      "DONE with  MASSBALANCES/I_1E-0.8-mas.dat\n",
      "DONE with  MASSBALANCES/I_1E-1.0-mas.dat\n",
      "DONE with  MASSBALANCES/I_1E-1.2-mas.dat\n",
      "DONE with  MASSBALANCES/I_1E-1.4-mas.dat\n",
      "DONE with  MASSBALANCES/I_1E-1.6-mas.dat\n",
      "DONE with  MASSBALANCES/I_1E-1.8-mas.dat\n",
      "DONE with  MASSBALANCES/I_1E-2.0-mas.dat\n",
      "DONE with  MASSBALANCES/I_1E-2.2-mas.dat\n",
      "DONE with  MASSBALANCES/I_1E-2.4-mas.dat\n",
      "DONE with  MASSBALANCES/I_1E-2.6-mas.dat\n",
      "DONE with  MASSBALANCES/I_1E-2.8-mas.dat\n",
      "DONE with  MASSBALANCES/I_1E-3.0-mas.dat\n",
      "DONE with  MASSBALANCES/I_1E-3.2-mas.dat\n",
      "DONE with  MASSBALANCES/I_1E-3.4-mas.dat\n"
     ]
    }
   ],
   "source": [
    "waterDensity = 999.65\n",
    "m3ToL = 1000.\n",
    "import os \n",
    "from pandas import read_csv\n",
    "\n",
    "folderToPlot=\"MASSBALANCES\"\n",
    "os.system(\"rm -rf MASSBALANCES; mkdir MASSBALANCES\")\n",
    "os.system(\"cp ./CASE**/*-mas.dat ./MASSBALANCES\")\n",
    "\n",
    "mo.Model.folderFixedToCSV(folderToPlot)     \n",
    "listOfFiles = os.listdir(folderToPlot)\n",
    "listOfFiles.sort()\n",
    "logC_arr = np.zeros(len(listOfFiles))"
   ]
  },
  {
   "cell_type": "code",
   "execution_count": 12,
   "metadata": {},
   "outputs": [
    {
     "data": {
      "image/png": "[encoded data removed]",
      "text/plain": [
       "<Figure size 576x576 with 2 Axes>"
      ]
     },
     "metadata": {
      "needs_background": "light"
     },
     "output_type": "display_data"
    }
   ],
   "source": [
    "import matplotlib.pyplot as plt\n",
    "indices = {'t':\"Time [d]\",\\\n",
    "           'q':\"ExtractWell Water Mass [kg/d]\",\\\n",
    "           'm':\"ExtractWell Vaq [mol/d]\"}\n",
    "\n",
    "normalizeWith={'t':1.0,'q':waterDensity/m3ToL,'m':1.0}\n",
    "\n",
    "fig, axs = plt.subplots(2,1, figsize=(8,8))\n",
    "for i,f in enumerate(listOfFiles):\n",
    "    \n",
    "    DATA = read_csv(os.path.join(folderToPlot,f), delimiter=\",\")\n",
    "    q_water = DATA[\"ExtractWell Water Mass [kg/d]\"].iloc[-1]/normalizeWith['q']\n",
    "    m_virus = DATA[\"ExtractWell Vaq [mol/d]\"].iloc[-1]/normalizeWith['m']\n",
    "    \n",
    "    concentration = np.divide(m_virus, q_water)\n",
    "    logC_arr[i] = -np.log10(concentration)\n",
    "\n",
    "    axs[0].plot(DATA[\"Time [d]\"], -DATA[\"ExtractWell Vaq [mol/d]\"], label=f)\n",
    "    axs[1].plot(DATA[\"Time [d]\"], DATA[\"InjectWell Vaq [mol/d]\"], label=f)\n",
    "for ax in axs: ax.legend()\n",
    "plt.show()"
   ]
  },
  {
   "cell_type": "code",
   "execution_count": 13,
   "metadata": {},
   "outputs": [
    {
     "data": {
      "image/png": "[encoded data removed]",
      "text/plain": [
       "<Figure size 432x288 with 1 Axes>"
      ]
     },
     "metadata": {
      "needs_background": "light"
     },
     "output_type": "display_data"
    }
   ],
   "source": [
    "import matplotlib.pyplot as plt\n",
    "\n",
    "fig,ax = plt.subplots()\n",
    "ax.plot(np.flip(I_array), logC_arr, marker=\"x\")\n",
    "ax.set(xscale='log')\n",
    "ax.set_xlabel(\"Water table gradient $I$\")\n",
    "ax.set_ylabel(\"log-reduction concentration $C_e/C_0$\")\n",
    "plt.show()\n"
   ]
  },
  {
   "cell_type": "code",
   "execution_count": 14,
   "metadata": {},
   "outputs": [],
   "source": [
    "with open(\"results.pkl\", 'wb') as f:\n",
    "    pickle.dump({\"I\":np.flip(I_array), \"C\":logC_arr}, f)"
   ]
  },
  {
   "cell_type": "code",
   "execution_count": null,
   "metadata": {},
   "outputs": [],
   "source": []
  }
 ],
 "metadata": {
  "kernelspec": {
   "display_name": "venv",
   "language": "python",
   "name": "python3"
  },
  "language_info": {
   "codemirror_mode": {
    "name": "ipython",
    "version": 3
   },
   "file_extension": ".py",
   "mimetype": "text/x-python",
   "name": "python",
   "nbconvert_exporter": "python",
   "pygments_lexer": "ipython3",
   "version": "3.9.5"
  },
  "toc": {
   "base_numbering": 1,
   "nav_menu": {},
   "number_sections": false,
   "sideBar": false,
   "skip_h1_title": false,
   "title_cell": "Table of Contents",
   "title_sidebar": "Contents",
   "toc_cell": false,
   "toc_position": {},
   "toc_section_display": false,
   "toc_window_display": false
  },
  "vscode": {
   "interpreter": {
    "hash": "8f62a988d0078ce54b44b9110a71f93c38ba1feabf8ee2b2fa419091e683527d"
   }
  }
 },
 "nbformat": 4,
 "nbformat_minor": 4
}
